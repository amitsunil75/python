{
 "cells": [
  {
   "cell_type": "code",
   "execution_count": 1,
   "id": "bfee8cd6-b9ca-4691-afcd-ed03751aad18",
   "metadata": {},
   "outputs": [],
   "source": [
    "import numpy as np"
   ]
  },
  {
   "cell_type": "code",
   "execution_count": 3,
   "id": "6e019ae9-0c9e-44db-a9ea-6b7c160fe008",
   "metadata": {},
   "outputs": [],
   "source": [
    "ar1=np.array([1,2,4,5]) "
   ]
  },
  {
   "cell_type": "code",
   "execution_count": 4,
   "id": "ac6557a2-5b4d-46df-b149-82adeacc87e2",
   "metadata": {},
   "outputs": [],
   "source": [
    "ar2=np.array([5,2,4,3])"
   ]
  },
  {
   "cell_type": "code",
   "execution_count": 5,
   "id": "6b958267-e21f-468e-b4ea-81ceda2900d7",
   "metadata": {},
   "outputs": [],
   "source": [
    "arrnew=ar1+ar2"
   ]
  },
  {
   "cell_type": "code",
   "execution_count": 6,
   "id": "6b39c43e-dec3-4395-90b8-d49f7cbc4fd6",
   "metadata": {},
   "outputs": [
    {
     "name": "stdout",
     "output_type": "stream",
     "text": [
      "[6 4 8 8]\n"
     ]
    }
   ],
   "source": [
    "print(arrnew)"
   ]
  },
  {
   "cell_type": "code",
   "execution_count": null,
   "id": "8a8d9055-87ec-4f94-b9d4-f8deed53e610",
   "metadata": {},
   "outputs": [],
   "source": []
  }
 ],
 "metadata": {
  "kernelspec": {
   "display_name": "Python 3 (ipykernel)",
   "language": "python",
   "name": "python3"
  },
  "language_info": {
   "codemirror_mode": {
    "name": "ipython",
    "version": 3
   },
   "file_extension": ".py",
   "mimetype": "text/x-python",
   "name": "python",
   "nbconvert_exporter": "python",
   "pygments_lexer": "ipython3",
   "version": "3.12.2"
  }
 },
 "nbformat": 4,
 "nbformat_minor": 5
}
